{
 "cells": [
  {
   "cell_type": "code",
   "execution_count": 1,
   "id": "89fc91c7",
   "metadata": {},
   "outputs": [
    {
     "name": "stdout",
     "output_type": "stream",
     "text": [
      "Winter\n",
      "1\n",
      "1.5\n",
      "7\n",
      "7\n",
      "7\n",
      "4\n",
      "3\n",
      "6\n"
     ]
    }
   ],
   "source": [
    "season = \"Winter\"\n",
    "x = 1\n",
    "y = 1.5\n",
    "first = second = third = 7\n",
    "a , b, c = 4, 3, 6\n",
    "print(season)\n",
    "print(x)\n",
    "print(y)\n",
    "print(first)\n",
    "print(second)\n",
    "print(third)\n",
    "print(a)\n",
    "print(b)\n",
    "print(c)"
   ]
  }
 ],
 "metadata": {
  "kernelspec": {
   "display_name": "Python 3 (ipykernel)",
   "language": "python",
   "name": "python3"
  },
  "language_info": {
   "codemirror_mode": {
    "name": "ipython",
    "version": 3
   },
   "file_extension": ".py",
   "mimetype": "text/x-python",
   "name": "python",
   "nbconvert_exporter": "python",
   "pygments_lexer": "ipython3",
   "version": "3.11.3"
  }
 },
 "nbformat": 4,
 "nbformat_minor": 5
}
